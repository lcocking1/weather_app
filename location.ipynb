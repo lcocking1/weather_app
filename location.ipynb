{
 "cells": [
  {
   "cell_type": "code",
   "execution_count": 2,
   "metadata": {},
   "outputs": [],
   "source": [
    "import requests \n",
    "import json\n",
    "s = requests.Session()"
   ]
  },
  {
   "cell_type": "code",
   "execution_count": 7,
   "metadata": {},
   "outputs": [],
   "source": [
    "c = open('credentials.json')\n",
    "cred = json.load(c)"
   ]
  },
  {
   "cell_type": "code",
   "execution_count": 8,
   "metadata": {},
   "outputs": [],
   "source": [
    "location_url = \"http://dev.virtualearth.net/REST/v1/Locations/US\"\n",
    "test_loc = \"CA/92103\"\n",
    "t = s.get(url=f\"{location_url}/CA\", params={\"key\": cred[\"bingMapsKey\"]})"
   ]
  },
  {
   "cell_type": "code",
   "execution_count": 9,
   "metadata": {},
   "outputs": [
    {
     "data": {
      "text/plain": [
       "{'authenticationResultCode': 'ValidCredentials',\n",
       " 'brandLogoUri': 'http://dev.virtualearth.net/Branding/logo_powered_by.png',\n",
       " 'copyright': 'Copyright © 2023 Microsoft and its suppliers. All rights reserved. This API cannot be accessed and the content and any results may not be used, reproduced or transmitted in any manner without express written permission from Microsoft Corporation.',\n",
       " 'resourceSets': [{'estimatedTotal': 1,\n",
       "   'resources': [{'__type': 'Location:http://schemas.microsoft.com/search/local/ws/rest/v1',\n",
       "     'bbox': [32.533836364746094,\n",
       "      -124.40511322021484,\n",
       "      42.018310546875,\n",
       "      -114.13817596435547],\n",
       "     'name': 'California',\n",
       "     'point': {'type': 'Point', 'coordinates': [37.25466919, -119.61727905]},\n",
       "     'address': {'adminDistrict': 'CA',\n",
       "      'countryRegion': 'United States',\n",
       "      'formattedAddress': 'California'},\n",
       "     'confidence': 'High',\n",
       "     'entityType': 'AdminDivision1',\n",
       "     'geocodePoints': [{'type': 'Point',\n",
       "       'coordinates': [37.25466919, -119.61727905],\n",
       "       'calculationMethod': 'Rooftop',\n",
       "       'usageTypes': ['Display']}],\n",
       "     'matchCodes': ['Good']}]}],\n",
       " 'statusCode': 200,\n",
       " 'statusDescription': 'OK',\n",
       " 'traceId': 'e1b123cc02fa4adb978ee4bbf50d2851|MWH0032BE0|0.0.0.1|Ref A: 0C51957AD0114E729F011F134DA1ED3C Ref B: CO1EDGE1510 Ref C: 2023-05-14T00:23:28Z'}"
      ]
     },
     "execution_count": 9,
     "metadata": {},
     "output_type": "execute_result"
    }
   ],
   "source": [
    "t.json()"
   ]
  },
  {
   "cell_type": "code",
   "execution_count": 8,
   "metadata": {},
   "outputs": [],
   "source": [
    "def get_coordinates(state: str, zipcode: str) -> list:\n",
    "    location_url = \"http://dev.virtualearth.net/REST/v1/Locations/US\"\n",
    "    test_loc = f\"{state}/{zipcode}\"\n",
    "    response = s.get(url=f\"{location_url}/{test_loc}\", params={\"key\": cred[\"bingMapsKey\"]})\n",
    "    if response.status_code == 200:\n",
    "        return parse_dict(response.json())"
   ]
  },
  {
   "cell_type": "code",
   "execution_count": null,
   "metadata": {},
   "outputs": [],
   "source": [
    "s.get(url=)"
   ]
  },
  {
   "cell_type": "code",
   "execution_count": 12,
   "metadata": {},
   "outputs": [],
   "source": [
    "def parse_dict(d: dict) -> list:\n",
    "    resource_sets = d['resourceSets']\n",
    "    coordinates = []\n",
    "    for resource_set in resource_sets:\n",
    "        if 'resources' in resource_set:\n",
    "            point_sets = resource_set['resources']\n",
    "            for point_set in point_sets:\n",
    "                if 'point' in point_set.keys():\n",
    "                    coordinates.append(point_set['point']['coordinates'])\n",
    "    return coordinates[0]\n"
   ]
  },
  {
   "cell_type": "code",
   "execution_count": 13,
   "metadata": {},
   "outputs": [
    {
     "data": {
      "text/plain": [
       "[33.97574997, -118.25048828]"
      ]
     },
     "execution_count": 13,
     "metadata": {},
     "output_type": "execute_result"
    }
   ],
   "source": [
    "get_coordinates('CA', '90001')"
   ]
  },
  {
   "cell_type": "code",
   "execution_count": 12,
   "metadata": {},
   "outputs": [],
   "source": [
    "zipcodes = [str(90000+i) for i in range(1, 6163)]"
   ]
  },
  {
   "cell_type": "code",
   "execution_count": 13,
   "metadata": {},
   "outputs": [
    {
     "data": {
      "text/plain": [
       "[32.71881485, -117.16222382]"
      ]
     },
     "execution_count": 13,
     "metadata": {},
     "output_type": "execute_result"
    }
   ],
   "source": [
    "from location import GetCoordinates\n",
    "c = GetCoordinates()\n",
    "c.get_coordinates('CA', '92101')"
   ]
  },
  {
   "cell_type": "code",
   "execution_count": 18,
   "metadata": {},
   "outputs": [],
   "source": [
    "fp = \"c:/users/Lucas/Downloads/\"\n",
    "fp = fp + \"tl_rd22_06095_addr.zip\""
   ]
  },
  {
   "cell_type": "code",
   "execution_count": 19,
   "metadata": {},
   "outputs": [],
   "source": [
    "import zipfile\n",
    "import io"
   ]
  },
  {
   "cell_type": "code",
   "execution_count": 30,
   "metadata": {},
   "outputs": [
    {
     "ename": "TypeError",
     "evalue": "argument of type 'ZipInfo' is not iterable",
     "output_type": "error",
     "traceback": [
      "\u001b[1;31m---------------------------------------------------------------------------\u001b[0m",
      "\u001b[1;31mTypeError\u001b[0m                                 Traceback (most recent call last)",
      "Cell \u001b[1;32mIn[30], line 3\u001b[0m\n\u001b[0;32m      1\u001b[0m zip_file \u001b[39m=\u001b[39m zipfile\u001b[39m.\u001b[39mZipFile(fp)\n\u001b[0;32m      2\u001b[0m zip_list \u001b[39m=\u001b[39m zip_file\u001b[39m.\u001b[39minfolist()\n\u001b[1;32m----> 3\u001b[0m db_file \u001b[39m=\u001b[39m [f \u001b[39mfor\u001b[39;00m f \u001b[39min\u001b[39;00m zip_list \u001b[39mif\u001b[39;00m \u001b[39m'\u001b[39m\u001b[39m.db\u001b[39m\u001b[39m'\u001b[39m \u001b[39min\u001b[39;00m f]\n\u001b[0;32m      4\u001b[0m \u001b[39mif\u001b[39;00m db_file \u001b[39m!=\u001b[39m []:\n\u001b[0;32m      5\u001b[0m     zip_contents \u001b[39m=\u001b[39m zip_file\u001b[39m.\u001b[39mread(db_file[\u001b[39m0\u001b[39m])\n",
      "Cell \u001b[1;32mIn[30], line 3\u001b[0m, in \u001b[0;36m<listcomp>\u001b[1;34m(.0)\u001b[0m\n\u001b[0;32m      1\u001b[0m zip_file \u001b[39m=\u001b[39m zipfile\u001b[39m.\u001b[39mZipFile(fp)\n\u001b[0;32m      2\u001b[0m zip_list \u001b[39m=\u001b[39m zip_file\u001b[39m.\u001b[39minfolist()\n\u001b[1;32m----> 3\u001b[0m db_file \u001b[39m=\u001b[39m [f \u001b[39mfor\u001b[39;00m f \u001b[39min\u001b[39;00m zip_list \u001b[39mif\u001b[39;00m \u001b[39m'\u001b[39;49m\u001b[39m.db\u001b[39;49m\u001b[39m'\u001b[39;49m \u001b[39min\u001b[39;49;00m f]\n\u001b[0;32m      4\u001b[0m \u001b[39mif\u001b[39;00m db_file \u001b[39m!=\u001b[39m []:\n\u001b[0;32m      5\u001b[0m     zip_contents \u001b[39m=\u001b[39m zip_file\u001b[39m.\u001b[39mread(db_file[\u001b[39m0\u001b[39m])\n",
      "\u001b[1;31mTypeError\u001b[0m: argument of type 'ZipInfo' is not iterable"
     ]
    }
   ],
   "source": [
    "zip_file = zipfile.ZipFile(fp)\n",
    "zip_list = zip_file.infolist()\n",
    "db_file = [f for f in zip_list if '.db' in f]\n",
    "if db_file != []:\n",
    "    zip_contents = zip_file.read(db_file[0])"
   ]
  },
  {
   "cell_type": "code",
   "execution_count": 45,
   "metadata": {},
   "outputs": [],
   "source": [
    "buf = io.BytesIO()\n",
    "# Open the ZIP file\n",
    "with zipfile.ZipFile(fp, 'r') as zip_file:\n",
    "    # Read the contents of the ZIP file into memory\n",
    "    zip_list = zip_file.namelist()\n",
    "    db_file = [f for f in zip_list if '.db' in f]\n",
    "    if db_file != []:\n",
    "        with io.BytesIO(zip_file.read(db_file[0])) as fb:\n",
    "            db_contents = fb.read()"
   ]
  },
  {
   "cell_type": "code",
   "execution_count": 55,
   "metadata": {},
   "outputs": [],
   "source": [
    "import tempfile\n",
    "# Open the ZIP file\n",
    "with zipfile.ZipFile(fp, 'r') as zip_file:\n",
    "    # Read the contents of the ZIP file into memory\n",
    "    zip_list = zip_file.namelist()\n",
    "    db_file = [f for f in zip_list if '.db' in f]\n",
    "    if db_file != []:\n",
    "        with tempfile.NamedTemporaryFile(suffix='.dbf') as temp_file:\n",
    "            temp_file.write(zip_file.read(db_file[0]))\n",
    "            temp_file.seek(0)\n",
    "            file= temp_file.read()"
   ]
  },
  {
   "cell_type": "code",
   "execution_count": 79,
   "metadata": {},
   "outputs": [],
   "source": [
    "import shapefile\n",
    "sf = shapefile.Reader(\"C:/Users/lucas/Downloads/tl_rd22_06_place.zip\")"
   ]
  },
  {
   "cell_type": "code",
   "execution_count": 83,
   "metadata": {},
   "outputs": [
    {
     "data": {
      "text/plain": [
       "[-120.674137, 40.361785999999995, -120.492965, 40.453556999999996]"
      ]
     },
     "execution_count": 83,
     "metadata": {},
     "output_type": "execute_result"
    }
   ],
   "source": [
    "s = sf.shape(0)\n",
    "[coord for coord in s.bbox]"
   ]
  },
  {
   "cell_type": "code",
   "execution_count": 84,
   "metadata": {},
   "outputs": [
    {
     "data": {
      "text/plain": [
       "[('DeletionFlag', 'C', 1, 0),\n",
       " ['STATEFP', 'C', 2, 0],\n",
       " ['PLACEFP', 'C', 5, 0],\n",
       " ['PLACENS', 'C', 8, 0],\n",
       " ['GEOID', 'C', 7, 0],\n",
       " ['NAME', 'C', 100, 0],\n",
       " ['NAMELSAD', 'C', 100, 0],\n",
       " ['LSAD', 'C', 2, 0],\n",
       " ['CLASSFP', 'C', 2, 0],\n",
       " ['PCICBSA', 'C', 1, 0],\n",
       " ['PCINECTA', 'C', 1, 0],\n",
       " ['MTFCC', 'C', 5, 0],\n",
       " ['FUNCSTAT', 'C', 1, 0],\n",
       " ['ALAND', 'N', 14, 0],\n",
       " ['AWATER', 'N', 14, 0],\n",
       " ['INTPTLAT', 'C', 11, 0],\n",
       " ['INTPTLON', 'C', 12, 0]]"
      ]
     },
     "execution_count": 84,
     "metadata": {},
     "output_type": "execute_result"
    }
   ],
   "source": [
    "sf.fields"
   ]
  },
  {
   "cell_type": "code",
   "execution_count": 85,
   "metadata": {},
   "outputs": [
    {
     "data": {
      "text/plain": [
       "Record #3: ['06', '17750', '02410282', '0617750', 'Cypress', 'Cypress city', '25', 'C1', 'N', 'N', 'G4110', 'A', 17127354, 22003, '+33.8184768', '-118.0383074']"
      ]
     },
     "execution_count": 85,
     "metadata": {},
     "output_type": "execute_result"
    }
   ],
   "source": [
    "sf.record(3)"
   ]
  },
  {
   "cell_type": "code",
   "execution_count": 91,
   "metadata": {},
   "outputs": [
    {
     "data": {
      "text/plain": [
       "Record #0: ['06', '77364', '02412017', '0677364', 'Susanville', 'Susanville city', '25', 'C1', 'Y', 'N', 'G4110', 'A', 20507839, 218688, '+40.4336740', '-120.6283062']"
      ]
     },
     "execution_count": 91,
     "metadata": {},
     "output_type": "execute_result"
    }
   ],
   "source": [
    "sr = sf.shapeRecords()\n",
    "sr[0].record"
   ]
  },
  {
   "cell_type": "code",
   "execution_count": 3,
   "metadata": {},
   "outputs": [],
   "source": [
    "r = s.get('https://download.geonames.org/export/dump/CA.zip')"
   ]
  },
  {
   "cell_type": "code",
   "execution_count": 3,
   "metadata": {},
   "outputs": [],
   "source": [
    "import requests\n",
    "import zipfile\n",
    "import io\n",
    "url = \"https://download.geonames.org/export/dump/US.zip\"\n",
    "zip = requests.get(url)"
   ]
  },
  {
   "cell_type": "code",
   "execution_count": 4,
   "metadata": {},
   "outputs": [
    {
     "data": {
      "text/plain": [
       "b'PK\\x03\\x04\\x14\\x00\\x08\\x08\\x08\\x00'"
      ]
     },
     "execution_count": 4,
     "metadata": {},
     "output_type": "execute_result"
    }
   ],
   "source": [
    "zip.content[:10]"
   ]
  },
  {
   "cell_type": "code",
   "execution_count": 7,
   "metadata": {},
   "outputs": [],
   "source": [
    "with zipfile.ZipFile(io.BytesIO(zip.content)) as zip_file:\n",
    "    us_buf = zip_file.read('US.txt')"
   ]
  },
  {
   "cell_type": "code",
   "execution_count": 17,
   "metadata": {},
   "outputs": [],
   "source": [
    "us_lst = us_buf.decode('utf-8').splitlines()"
   ]
  },
  {
   "cell_type": "code",
   "execution_count": 12,
   "metadata": {},
   "outputs": [],
   "source": [
    "import csv\n",
    "us_data = us_buf.decode('utf-8')\n",
    "us_file = io.BytesIO(us_data.encode('utf-8'))\n",
    "csv_reader = csv.reader(us_file, delimiter='\\t')"
   ]
  },
  {
   "cell_type": "code",
   "execution_count": 22,
   "metadata": {},
   "outputs": [
    {
     "data": {
      "text/plain": [
       "<Response [401]>"
      ]
     },
     "execution_count": 22,
     "metadata": {},
     "output_type": "execute_result"
    }
   ],
   "source": [
    "url = \"http://api.geonames.org/postalCodeSearchJSON\"\n",
    "r = requests.get(f\"{url}?postalcode=9\")\n",
    "r"
   ]
  },
  {
   "cell_type": "code",
   "execution_count": 23,
   "metadata": {},
   "outputs": [
    {
     "data": {
      "text/plain": [
       "'{\"status\":{\"message\":\"Please add a username to each call in order for geonames to be able to identify the calling application and count the credits usage.\",\"value\":10}}'"
      ]
     },
     "execution_count": 23,
     "metadata": {},
     "output_type": "execute_result"
    }
   ],
   "source": [
    "r.text"
   ]
  }
 ],
 "metadata": {
  "kernelspec": {
   "display_name": ".venv",
   "language": "python",
   "name": "python3"
  },
  "language_info": {
   "codemirror_mode": {
    "name": "ipython",
    "version": 3
   },
   "file_extension": ".py",
   "mimetype": "text/x-python",
   "name": "python",
   "nbconvert_exporter": "python",
   "pygments_lexer": "ipython3",
   "version": "3.10.4"
  },
  "orig_nbformat": 4
 },
 "nbformat": 4,
 "nbformat_minor": 2
}
